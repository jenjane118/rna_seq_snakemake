{
 "cells": [
  {
   "attachments": {},
   "cell_type": "markdown",
   "metadata": {},
   "source": [
    "# RNA-seq Processing Pipeline\n",
    "\n",
    "Jennifer Stiens\n",
    "j.j.stiens@gmail.com\n",
    "Birkbeck, University of London\n",
    "\n",
    "## Date:  11-05-23\n",
    "\n",
    "### Notebook for download, QC and mapping of RNA-seq files\n",
    "\n",
    "The details of the RNA-seq processing and mapping performed for the WGCNA paper are found in the github repo for the paper:\n",
    "\n",
    "[WGCNA rna processing doc](https://github.com/jenjane118/mtb_wgcna/blob/master/mtb_wgcna_doc.Rmd)\n",
    "\n",
    "#### There are two options for each step in the pipeline: using snakemake and associated snakefiles, and the other using command line scripts\n",
    "\n",
    "For help installing Snakemake:\n",
    "\n",
    "[snakemake installation conda/mamba](https://snakemake.readthedocs.io/en/stable/getting_started/installation.html)"
   ]
  },
  {
   "cell_type": "code",
   "execution_count": null,
   "metadata": {
    "vscode": {
     "languageId": "shellscript"
    }
   },
   "outputs": [],
   "source": [
    "\n",
    "#install snakemake (install mamba first or install mamba inside conda)\n",
    "\n",
    "conda activate base\n",
    "mamba create -c conda-forge -c bioconda -n snakemake snakemake\n",
    "mamba activate snakemake\n",
    "mamba install -c bioconda bwa samtools fastqc multiqc fastp rseqc sra-tools deeptools"
   ]
  },
  {
   "attachments": {},
   "cell_type": "markdown",
   "metadata": {},
   "source": [
    "My snakemake files are found at https://github.com/jenjane118/rna_seq_snakemake. Copy these into your own snakemake folder.\n",
    "\n",
    "Directory structure to show snakemake scripts\n",
    "\n",
    "```\n",
    "├── README.md\n",
    "├── bam_coverage\n",
    "│   └── snakefile.smk\n",
    "├── bowtie2\n",
    "│   └── snakefile.smk\n",
    "├── dir_tree.txt\n",
    "├── fastp\n",
    "│   ├── pe\n",
    "│   │   └── snakefile.smk\n",
    "│   └── single\n",
    "│       └── snakefile.smk\n",
    "├── fastqc\n",
    "│   └── pe\n",
    "│       └── snakefile.smk\n",
    "├── map_bwa\n",
    "│   ├── pe\n",
    "│   │   └── snakefile.smk\n",
    "│   └── single\n",
    "│       └── snakefile.smk\n",
    "├── mbovis_wgs.ipynb\n",
    "├── rna_seq_nb.ipynb\n",
    "├── sra\n",
    "│   ├── pe\n",
    "│   │   └── snakefile.smk\n",
    "│   └── single\n",
    "│       └── snakefile.smk\n",
    "└── tree_out.txt\n",
    "\n",
    "14 directories, 14 files\n",
    "```\n",
    "\n"
   ]
  },
  {
   "cell_type": "code",
   "execution_count": null,
   "metadata": {
    "vscode": {
     "languageId": "shellscript"
    }
   },
   "outputs": [],
   "source": []
  },
  {
   "attachments": {},
   "cell_type": "markdown",
   "metadata": {},
   "source": [
    "## Download files from SRA to Birkbeck server\n",
    "\n",
    "This uses SRA tools which is installed on thoth /s/software/modules\n",
    "\n",
    "You may want to create a directory 'ncbi' or use the project name or something like this for your fastq files. Run the snakefile or shell script below from inside this directory."
   ]
  },
  {
   "cell_type": "code",
   "execution_count": null,
   "metadata": {
    "vscode": {
     "languageId": "shellscript"
    }
   },
   "outputs": [],
   "source": [
    "module load ncbi-sra/v2.10.5 #(in /s/software/modules)\n",
    "cd ncbi/<dataset_name>\n",
    "#make shell script to iterate through accession numbers (iterate_fasterq.sh)\n",
    "#!/bin/bash\n",
    "\n",
    "while IFS= read -r line;\n",
    "do\n",
    "\techo \"accession number: \t$line\"\n",
    "\t#call fasterq to download from sra\n",
    "\tfasterq-dump ${line} -O files/\n",
    "\techo -e \"########################\\n\\n\"\n",
    "done < \"$1\"\n",
    "\n",
    "\n",
    "# to run program in background:\n",
    "nohup bash iterate_fasterq.sh accession_list.txt &> fasterq_dump.out &"
   ]
  },
  {
   "cell_type": "code",
   "execution_count": null,
   "metadata": {
    "vscode": {
     "languageId": "shellscript"
    }
   },
   "outputs": [],
   "source": [
    "# if using snakemake\n",
    "\n",
    "# depends whether single or paired-end to choose which script\n",
    "\n",
    "# make a directory for the dataset and move to that directory\n",
    "mkdir $my_path/mtb_rna/PRJNA838962\n",
    "cd $my_path/mtb_rna/PRJNA838962\n",
    "\n",
    "#make config.yaml file in directory including something like the following line to indicate accessions:\n",
    "#accession: [SRR21026195,SRR21026196,SRR21026197,SRR21026198,SRR21026199,SRR21026200]\n",
    "\n",
    "conda activate snakemake\n",
    "module load ncbi-sra/v2.10.5\n",
    "\n",
    "#dry run\n",
    "snakemake -np -s $my_path/snakemake/sra/pe/snakefile.smk\n",
    "#run in background\n",
    "nohup snakemake --cores 8 -s $my_path/snakemake/sra/pe/snakefile.smk > nohup.out 2>&1 &"
   ]
  },
  {
   "attachments": {},
   "cell_type": "markdown",
   "metadata": {},
   "source": [
    "After determining fastq files have been downloaded for the desired accession numbers, perform some sanity checks to look for discrepencies in number of reads (between paired end files) and for appearance and read length. The files will be in compressed form and there is no need to decompress them at this time. (The line count is included in snakemake script)\n"
   ]
  },
  {
   "cell_type": "code",
   "execution_count": null,
   "metadata": {
    "vscode": {
     "languageId": "shellscript"
    }
   },
   "outputs": [],
   "source": [
    "#Sanity checks\n",
    "\n",
    "#1) Check for read length\n",
    "\n",
    "head -50 <file.fastq.gz>\n",
    "\n",
    "#2) Count number of reads:  R1 and R2 should match\n",
    "zcat <file.fastq.gz> | wc -l\n",
    "\n",
    "# or loop through and count reads:\n",
    "FILES=`ls *.fastq.gz`\n",
    "for file in $FILES; do zcat $file | wc -l; done\n",
    "\n",
    "#or (for uncompressed files)\n",
    "find . -name '*.fastq' -exec wc -l {} +"
   ]
  },
  {
   "attachments": {},
   "cell_type": "markdown",
   "metadata": {},
   "source": [
    "Choose what quality control program(s) to use. FastQC and Fastp equally useful for qc, but fastp trims at the same time. I prefer this\n",
    "\n",
    "To run fastQC on directory of fastq files, create the following bash script and run:\n"
   ]
  },
  {
   "cell_type": "code",
   "execution_count": null,
   "metadata": {
    "vscode": {
     "languageId": "shellscript"
    }
   },
   "outputs": [],
   "source": [
    "\n",
    "#!/bin/bash\n",
    "\n",
    "# iterate_fastqc.sh\n",
    "# usage: bash iterate_fastqc.sh\n",
    "\n",
    "FILES=*.fastq\n",
    "\n",
    "for file in $FILES\n",
    "do\n",
    "\tfilename=$(basename \"$file\")\n",
    "\tfilename=\"${filename%.*}\"\n",
    "\n",
    "\techo \"File on the loop: \t$filename\"\n",
    "\n",
    "\t#call fastQC quality analysis\n",
    "\t/s/software/fastqc/v0.11.8/FastQC/fastqc ${file}\n",
    "\n",
    "\techo -e \"########################\\n\\n\"\n",
    "done\n",
    "\n",
    "# Run MultiQC\n",
    "# -f overwrites existing files, . runs with files in current directory, -o output directory\n",
    "echo \"Running MultiQC...\"\n",
    "# Moves output into new folder\n",
    "    mkdir ./fast_QC_outputs\n",
    "    mv *fastqc.zip ./fast_QC_outputs\n",
    "    mv *fastqc.html ./fast_QC_outputs\n",
    "\n",
    "    # Run multiqc to compile outputs\n",
    "    cd fast_QC_outputs\n",
    "multiqc -f .\n"
   ]
  },
  {
   "cell_type": "code",
   "execution_count": null,
   "metadata": {
    "vscode": {
     "languageId": "shellscript"
    }
   },
   "outputs": [],
   "source": [
    "module load python/v3\n",
    "module load fastqc\n",
    "bash iterate_fastqc.sh"
   ]
  },
  {
   "cell_type": "code",
   "execution_count": null,
   "metadata": {
    "vscode": {
     "languageId": "shellscript"
    }
   },
   "outputs": [],
   "source": [
    "# with snakemake\n",
    "cd $my_path/<dataset_dir>\n",
    "conda activate snakemake\n",
    "#dry run (use appropriate single/pe file depending on data)\n",
    "snakemake -np -s $my_path/snakemake/fastqc/pe/snakefile.smk\n",
    "#run in background\n",
    "nohup snakemake --cores 8 -s $my_path/snakemake/fastqc/pe/snakefile.smk > nohup.out 2>&1 &"
   ]
  },
  {
   "attachments": {},
   "cell_type": "markdown",
   "metadata": {},
   "source": [
    "In the WGCNA paper, we then used trimmomatic to trim the adapters. I don't think this matters as long as good mapping stats."
   ]
  },
  {
   "cell_type": "code",
   "execution_count": null,
   "metadata": {
    "vscode": {
     "languageId": "shellscript"
    }
   },
   "outputs": [],
   "source": [
    "\n",
    "#The following is a script to run trimmomatic on single end samples:\n",
    "        #!/bin/bash\n",
    "        # iterate_trimmomatic.sh\n",
    "        # Runs Trimmomatic in PE mode for all sample names given as arguments\n",
    "        # Run as:\n",
    "        # nohup bash $my_path/scripts/iterate_trimmomatic.sh PRJNA488546\n",
    "\n",
    "\n",
    "        timestamp=`date \"+%Y%m%d-%H%M%S\"`\n",
    "        logfile=\"run_$timestamp.log\"\n",
    "        exec > $logfile 2>&1  #all output will be logged to logfile\n",
    "\n",
    "        TRIM_EXEC=\"/s/software/trimmomatic/Trimmomatic-0.38/trimmomatic-0.38.jar\"\n",
    "        DIR=$1\n",
    "        shift\n",
    "\n",
    "        echo \"Running Trimmomatic using executable: $TRIM_EXEC\"\n",
    "\n",
    "        for file in `ls $DIR/*.fastq.gz` ;\n",
    "        do\n",
    "          echo \"File on Loop: ${file}\"\n",
    "          sample=${file/$DIR\\/}\n",
    "          sample=${sample/.fastq.gz/}\n",
    "          echo \"Sample= $sample\"\n",
    "          \n",
    "          java -jar $TRIM_EXEC SE -threads 12 -phred33 \\\n",
    "               -trimlog \"$sample\"_trim_report.txt \\\n",
    "               \"$DIR/$sample\".fastq.gz \"$sample\"_trimmed.fastq.gz \\\n",
    "               ILLUMINACLIP:/s/software/trimmomatic/Trimmomatic-0.38/adapters/TruSeq3-PE.fa:2:30:10 \\\n",
    "               LEADING:3 TRAILING:3 SLIDINGWINDOW:4:15 MINLEN:36\n",
    "\n",
    "          gzip \"$sample\"_trim_report.txt\n",
    "        done\n",
    "        \n"
   ]
  },
  {
   "cell_type": "code",
   "execution_count": null,
   "metadata": {
    "vscode": {
     "languageId": "shellscript"
    }
   },
   "outputs": [],
   "source": [
    "        \n",
    "module load trimmomatic\n",
    "cd $my_path/ncbi/files/<dataset_dir>\n",
    "nohup bash $my_path/scripts/iterate_trimmomatic.sh PRJNA488546 >& iterate_trim.out &"
   ]
  },
  {
   "attachments": {},
   "cell_type": "markdown",
   "metadata": {},
   "source": [
    "Lately I have switched to fastp to trim and do quality control. It trims adapters and automatically detects the adapter sequences by default. If there are remaining adapters, you can specify adapter sequences.\n",
    "\n",
    "[fastp docs](https://github.com/OpenGene/fastp)"
   ]
  },
  {
   "cell_type": "code",
   "execution_count": null,
   "metadata": {
    "vscode": {
     "languageId": "shellscript"
    }
   },
   "outputs": [],
   "source": [
    "# paired end, gzip compressed, R1 is read1, R2 is read2 of paired end\n",
    "mkdir trimmed\n",
    "#fastp is not yet on thoth server--need to ask Dave to install this, or can use in conda env. But the code below is representative of how to use it.\n",
    "module load fastp\n",
    "fastp -i <sample_name.R1.fastq.gz> -I <sample_name.R2.fastq.gz> -o <trimmed_reads/<sample_name>_trimmed.R1.fastq.gz> -O <trimmed_reads/<sample_name>_trimmed.R2.fastq.gz>"
   ]
  },
  {
   "cell_type": "code",
   "execution_count": null,
   "metadata": {
    "vscode": {
     "languageId": "shellscript"
    }
   },
   "outputs": [],
   "source": [
    "#with snakemake\n",
    "\n",
    "cd $my_path/<dataset_dir>\n",
    "conda activate snakemake\n",
    "#dry run (use appropriate single/pe file depending on data)\n",
    "snakemake -np -s $my_path/snakemake/fastp/pe/snakefile.smk\n",
    "#run in background\n",
    "nohup snakemake --cores 8 -s $my_path/snakemake/fastp/pe/snakefile.smk > nohup.out 2>&1 &"
   ]
  },
  {
   "attachments": {},
   "cell_type": "markdown",
   "metadata": {},
   "source": [
    "Map the trimmed reads with BWA-mem"
   ]
  },
  {
   "cell_type": "code",
   "execution_count": null,
   "metadata": {
    "vscode": {
     "languageId": "shellscript"
    }
   },
   "outputs": [],
   "source": [
    "module load bwa\n",
    "module load samtools\n",
    "\n",
    "#create index file for genome in same directory as genome file\n",
    "bwa index AL123456_3.fasta\n",
    "\n",
    "# using shell script from Yen-Yi (should check that filenames and paths correct)\n",
    "#!/bin/bash\n",
    "\n",
    "# Runs bwa in paired-end  mode, sorts and indexes files \n",
    "\n",
    "# Run as:\n",
    "# nohup sh BWA_PE.sh directory_of_fastq_files samples\n",
    "\n",
    "timestamp=`date \"+%Y%m%d-%H%M%S\"`\n",
    "logfile=\"run_$timestamp.log\"\n",
    "exec > $logfile 2>&1  #all output will be logged to logfile\n",
    "\n",
    "dir=$1\n",
    "shift\n",
    "\n",
    "#set location of executables\n",
    "SAMTOOLS_EXEC=<PATH TO EXEC>\n",
    "\n",
    "#set parameters\n",
    "genomeFile=<GENOME_FILE> #index files should be in same directory\n",
    "numProc=8\n",
    "\n",
    "#extension for fastq files\n",
    "suffix1=\"<sample_name>_trimmed.R1.fastq.gz\"\n",
    "suffix2=\"<sample_name>_trimmed.R1.fastq.gz\"\n",
    "EXT=fastq.gz\n",
    "\n",
    "for sample in *.${EXT};\n",
    "do\n",
    "  sample=$(echo $sample | cut -f 1 -d '_')\n",
    "  echo \"Running bwa on sample $sample (paired-end mode)...\"\n",
    "\n",
    "  pairedFile1=\"$dir$sample$suffix1\".gz\n",
    "  if [ -f $pairedFile1 ]\n",
    "    then\n",
    "      gzip -d $pairedFile1\n",
    "      pairedFile1=$dir$sample$suffix1\n",
    "  else\n",
    "    pairedFile1=$dir$sample$suffix1\n",
    "    if [ ! -f $pairedFile1 ]\n",
    "      then\n",
    "        echo \"File not found: $pairedFile1\"\n",
    "        exit $?\n",
    "    fi\n",
    "  fi\n",
    "  pairedFile2=\"$dir$sample$suffix2\".gz\n",
    "  if [ -f $pairedFile2 ]\n",
    "    then\n",
    "      gzip -d $pairedFile2\n",
    "        pairedFile2=$dir$sample$suffix2\n",
    "  else\n",
    "    pairedFile2=$dir$sample$suffix2\n",
    "      if [ ! -f $pairedFile2 ]\n",
    "        then\n",
    "          echo \"File not found: $pairedFile2\"\n",
    "            exit $?\n",
    "      fi\n",
    "  fi\n",
    "\n",
    "  tmpSam=\"$sample\"_pe.sam\n",
    "  tmpBam=\"$sample\"_pe.bam\n",
    "           finalSortedBam=\"$sample\"_sorted.bam\n",
    "   \n",
    "  #align \n",
    "  $BWA_EXEC mem -t $numProc $genomeFile $pairedFile1 $pairedFile2 > $tmpSam\n",
    "\n",
    "  #create bam file\n",
    "  $SAMTOOLS_EXEC view $tmpSam -Sbo $tmpBam\n",
    "  $SAMTOOLS_EXEC sort $tmpBam -o $finalSortedBam\n",
    "  $SAMTOOLS_EXEC index $finalSortedBam\n",
    "\n",
    "  #cleanup\n",
    "  /bin/rm $tmpSam $tmpBam\n",
    "  gzip -9 $pairedFile1 $pairedFile2\n",
    "done"
   ]
  },
  {
   "cell_type": "code",
   "execution_count": null,
   "metadata": {
    "vscode": {
     "languageId": "shellscript"
    }
   },
   "outputs": [],
   "source": [
    "#Mapping output quality check script\n",
    "\n",
    "module load samtools\n",
    "\n",
    "#requires a bed file for genome\n",
    "\n",
    "#!/bin/bash\n",
    "timestamp=`date \"+%Y%m%d-%H%M%S\"`\n",
    "logfile=\"run_$timestamp.log\"\n",
    "exec > $logfile 2>&1  #all output will be logged to logfile\n",
    "\n",
    "dir=$1\n",
    "shift\n",
    "\n",
    "EXT=bam\n",
    "ref_genome=\"<genome_file/ref_genomic.bed>\"\n",
    "SUFFIX=\"_sorted.bam\"\n",
    "for sample in  *.${EXT};\n",
    "    do\n",
    "        sample=$(echo $sample | cut -f 1 -d '_')\n",
    "        echo \"Running mapping quality scripts on sample $sample...\"\n",
    "        echo \"sample is $sample\"\n",
    "        quality_check=$dir$sample$SUFFIX\n",
    "        samtools flagstat $quality_check > \"flagstat_$sample.txt\"\n",
    "        echo \"Mapping output quality check for $sample done...\"\n",
    "    done\n",
    "\n",
    "mkdir flagstat_ouput \n",
    "mv *flagstat* flagstat_output \n",
    "multiqc ./"
   ]
  },
  {
   "cell_type": "code",
   "execution_count": null,
   "metadata": {
    "vscode": {
     "languageId": "shellscript"
    }
   },
   "outputs": [],
   "source": [
    "# with snakemake (maps, sorts, indexes and creates flagstats report)\n",
    "cd $my_path/<dataset_dir>\n",
    "conda activate snakemake\n",
    "snakemake -np -s $my_path/snakemake/map_bwa/pe/snakefile.smk\n",
    "nohup snakemake --cores 8 -s $my_path/snakemake/map_bwa/pe/snakefile.smk > nohup_map.out 2>&1 &"
   ]
  },
  {
   "attachments": {},
   "cell_type": "markdown",
   "metadata": {},
   "source": [
    "## It is useful to have bam coverage files to use with IGV"
   ]
  },
  {
   "cell_type": "code",
   "execution_count": null,
   "metadata": {
    "vscode": {
     "languageId": "shellscript"
    }
   },
   "outputs": [],
   "source": [
    "module load python/v3\n",
    "#makes a separate bigwig file for forward and reverse strands\n",
    "bamCoverage -b sorted_reads/{sample}.bam -o covg_bigwigs/{sample}_fwd.bw -of bigwig --filterRNAstrand forward -p 8 --binSize 1 --extendReads\n",
    "bamCoverage -b sorted_reads/{sample}.bam -o covg_bigwigs/{sample}_rev.bw -of bigwig --filterRNAstrand reverse -p 8 --binSize 1 --extendReads"
   ]
  },
  {
   "cell_type": "code",
   "execution_count": null,
   "metadata": {
    "vscode": {
     "languageId": "shellscript"
    }
   },
   "outputs": [],
   "source": [
    "#with snakmake\n",
    "cd <dataset_dir>\n",
    "snakemake -np -s $my_path/snakemake/bam_coverage/snakefile.smk\n",
    "snakemake --cores 3 -s $my_path/snakemake/bam_coverage/snakefile.smk"
   ]
  }
 ],
 "metadata": {
  "kernelspec": {
   "display_name": "Python [conda env:snakemake]",
   "language": "python",
   "name": "conda-env-snakemake-py"
  },
  "language_info": {
   "codemirror_mode": {
    "name": "ipython",
    "version": 3
   },
   "file_extension": ".py",
   "mimetype": "text/x-python",
   "name": "python",
   "nbconvert_exporter": "python",
   "pygments_lexer": "ipython3",
   "version": "3.9.13"
  }
 },
 "nbformat": 4,
 "nbformat_minor": 4
}
