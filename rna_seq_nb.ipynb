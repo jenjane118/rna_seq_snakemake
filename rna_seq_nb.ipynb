{
 "cells": [
  {
   "cell_type": "markdown",
   "id": "f94e56a3",
   "metadata": {},
   "source": [
    "# RNA-seq Processing Notebook\n",
    "\n",
    "Jennifer Stiens\n",
    "j.j.stiens@gmail.com\n",
    "Birkbeck, University of London\n",
    "\n",
    "## Date started:  06-10-22\n",
    "\n",
    "### Notebook for processing Mbovis RNA seq data\n",
    "\n"
   ]
  },
  {
   "cell_type": "code",
   "execution_count": 3,
   "id": "a50c6aca",
   "metadata": {},
   "outputs": [
    {
     "name": "stdout",
     "output_type": "stream",
     "text": [
      "docker: Error response from daemon: dial unix /Users/jenniferstiens/Library/Containers/com.docker.docker/Data/docker.raw.sock: connect: connection refused.\r\n",
      "See 'docker run --help'.\r\n"
     ]
    }
   ],
   "source": [
    "!docker run --rm -it avsastry/get-all-rnaseq:latest \"Mycobacterium tuberculosis variant bovis AF2122/97\" > Mbovis_rna.tsv"
   ]
  },
  {
   "cell_type": "markdown",
   "id": "4f3f3c29",
   "metadata": {},
   "source": [
    "this won't work in conda env but will work outside conda. in bash shell, open docker app (in apps), select avsastry docker container, then run command\n",
    "\n",
    "But this doesn't like the whole name--rejects the variant bovis bit."
   ]
  },
  {
   "cell_type": "markdown",
   "id": "217b6c95",
   "metadata": {},
   "source": [
    "Got accessions from SRA by searching. There are 3 from 2022 and 6 from 2018. Use one step method. "
   ]
  },
  {
   "cell_type": "code",
   "execution_count": null,
   "id": "21cae958",
   "metadata": {},
   "outputs": [],
   "source": [
    "!cd ncbi\n",
    "!module load ncbi-sra/v2.10.5 #(in /s/software/modules)\n",
    "\n",
    "!#make shell script to iterate through accession numbers (iterate_fasterq.sh)\n",
    "!#!/bin/bash\n",
    "\n",
    "!while IFS= read -r line;\n",
    "!do\n",
    "!\techo \"accession number: \t$line\"\n",
    "!\t#call fasterq to download from sra\n",
    "!\tfasterq-dump ${line} -O files/\n",
    "!\techo -e \"########################\\n\\n\"\n",
    "!done < \"$1\"\n",
    "\n",
    "\n",
    "\n",
    "!nohup bash iterate_fasterq.sh accession_list.txt &> fasterq_dump.out &"
   ]
  },
  {
   "cell_type": "markdown",
   "id": "a4bed977",
   "metadata": {},
   "source": [
    "Report from iterate_fasterq.out\n",
    "\n",
    "accession number: \tSRR18961402\n",
    "spots read      : 63,186,291\n",
    "reads read      : 126,372,582\n",
    "reads written   : 126,372,582\n",
    "########################\n",
    "\n",
    "\n",
    "accession number: \tSRR18961411\n",
    "spots read      : 74,133,084\n",
    "reads read      : 148,266,168\n",
    "reads written   : 148,266,168\n",
    "########################\n",
    "\n",
    "\n",
    "accession number: \tSRR18961412\n",
    "spots read      : 73,101,699\n",
    "reads read      : 146,203,398\n",
    "reads written   : 146,203,398\n",
    "########################\n"
   ]
  },
  {
   "cell_type": "code",
   "execution_count": null,
   "id": "bf9e7b1c",
   "metadata": {},
   "outputs": [],
   "source": [
    "*QC on fastq files*\n",
    "\n",
    "Sanity checks to make sure reads are intact.\n"
   ]
  },
  {
   "cell_type": "code",
   "execution_count": null,
   "id": "6e195d51",
   "metadata": {},
   "outputs": [],
   "source": [
    "\n",
    "#1) Check for read length\n",
    "\n",
    "!head -50 <file.fastq>\n",
    "\n",
    "#2) Count number of reads:  R1 and R2 should match\n",
    "!wc -l <file.fastq>\n",
    "# loop through and count reads:\n",
    "!FILES=`ls *.fastq`\n",
    "!for file in $FILES; do wc -l $file; done;\n",
    "#or\n",
    "!find . -name '*.fastq' -exec wc -l {} +"
   ]
  },
  {
   "cell_type": "markdown",
   "id": "58617039",
   "metadata": {},
   "source": [
    "Read lengths seem to vary between 120 to 151.\n",
    "The line count for each fastq file are exactly double the 'reads read' and 'reads written' reported by fasterq (two lines per read). R1 and R2 match for all fastq files."
   ]
  },
  {
   "cell_type": "markdown",
   "id": "b3fd9b48",
   "metadata": {},
   "source": [
    "Iterate through fastq files and do fastqc and multiqc on the dataset."
   ]
  },
  {
   "cell_type": "code",
   "execution_count": null,
   "id": "b2294f9c",
   "metadata": {},
   "outputs": [],
   "source": [
    "\n",
    "!module load python/v3\n",
    "\n",
    "!#!/bin/bash\n",
    "\n",
    "!# iterate_fastqc.sh\n",
    "!# usage: bash iterate_fastqc.sh\n",
    "\n",
    "!FILES=*.fastq\n",
    "\n",
    "!for file in $FILES\n",
    "do\n",
    "\t!filename=$(basename \"$file\")\n",
    "\t!filename=\"${filename%.*}\"\n",
    "\n",
    "\t!echo \"File on the loop: \t$filename\"\n",
    "\n",
    "\t!#call fastQC quality analysis\n",
    "\t!/s/software/fastqc/v0.11.8/FastQC/fastqc ${file}\n",
    "\n",
    "\t!echo -e \"########################\\n\\n\"\n",
    "!done\n",
    "\n",
    "\n",
    "# Run MultiQC\n",
    "# -f overwrites existing files, . runs with files in current directory, -o output directory\n",
    "!echo \"Running MultiQC...\"\n",
    "# Moves output into new folder\n",
    "    !mkdir ./fast_QC_outputs\n",
    "    !mv *fastqc.zip ./fast_QC_outputs\n",
    "    !mv *fastqc.html ./fast_QC_outputs\n",
    "\n",
    "    # Run multiqc to compile outputs\n",
    "    !cd fast_QC_outputs\n",
    "!multiqc -f ."
   ]
  },
  {
   "cell_type": "markdown",
   "id": "fb04a25b",
   "metadata": {},
   "source": [
    "Sample\t     percent_duplicates \n",
    "percent_gc\tavg_sequence_length\tpercent_fails\ttotal_sequences\n",
    "SRR18961402_1\t95.74886897667076\t62.0\t143.76444751283154\t40.0\t63186291.0\n",
    "SRR18961402_2\t94.71897274594298\t62.0\t144.53112903873406\t40.0\t63186291.0\n",
    "SRR18961411_1\t96.0286096462345\t62.0\t143.98847565818252\t40.0\t74133084.0\n",
    "SRR18961411_2\t95.16330953555591\t61.0\t144.60963914572878\t40.0\t74133084.0\n",
    "SRR18961412_1\t95.86770216996337\t62.0\t143.48920810992368\t40.0\t73101699.0\n",
    "SRR18961412_2\t95.55483256230265\t62.0\t144.26212813466893\t40.0\t73101699.0"
   ]
  },
  {
   "cell_type": "markdown",
   "id": "4e3826a2",
   "metadata": {},
   "source": [
    "I'm always confused by the high level of duplicates? Why do I always seem to see this?\n",
    "Found this on Biostars: (https://www.biostars.org/p/14283/)\n",
    "\"Observing high rates of read duplicates in RNA-seq libraries is common. It may not be an indication of poor library complexity caused by low sample input or over-amplification. It might be caused by such problems but it is often because of very high abundance of a small number of genes (usually ribosomal or mitochondrial house keeping genes). For example, I have seen libraries where ~60% of all reads mapped to the 2-10 most highly expressed genes. Sometimes 75% of all reads map to the top 0.1% of expressed genes. The result of such heavy sampling of these genes is a high number of duplicate reads (even when considering read pairs in assessing duplicates).\"\n",
    "\n",
    "[Multiqc report](file:///Users/jenniferstiens/myco_projects/rna_seq_processing/qc/multiqc/multiqc_report.html)\n",
    "\n",
    "Might want to zip the fastq files as they are very big and move them to project name directory."
   ]
  },
  {
   "cell_type": "code",
   "execution_count": null,
   "id": "74eb6132",
   "metadata": {},
   "outputs": [],
   "source": [
    "!gzip *.fastq\n",
    "!mv *.fastq.gz PRJNA832959/ "
   ]
  },
  {
   "cell_type": "markdown",
   "id": "b09a12e8",
   "metadata": {},
   "source": [
    "\n",
    "Trimming step:\n",
    "adapter files in ~/git/tn_seq/data/adapters_all.fa\n",
    "\n",
    "I didn't run this--maybe run fastp instead (see rna_processing.smk)"
   ]
  },
  {
   "cell_type": "code",
   "execution_count": null,
   "id": "2707bbcf",
   "metadata": {
    "vscode": {
     "languageId": "shellscript"
    }
   },
   "outputs": [],
   "source": [
    "##DON'T RUN\n",
    "\n",
    "\n",
    "#For trimmomatic, the modules should be loaded with:\n",
    "        #!/bin/bash\n",
    "        # To load trimmomatic \n",
    "        module load trimmomatic\n",
    "\n",
    "#The following is a script to run trimmomatic on single end samples:\n",
    "        #!/bin/bash\n",
    "        # iterate_trimmomatic.sh\n",
    "        # Runs Trimmomatic in PE mode for all sample names given as arguments\n",
    "        # Run as:\n",
    "        # nohup bash $my_path/scripts/iterate_trimmomatic.sh PRJNA488546\n",
    "\n",
    "\n",
    "        !timestamp=`date \"+%Y%m%d-%H%M%S\"`\n",
    "        !logfile=\"run_$timestamp.log\"\n",
    "        !exec > $logfile 2>&1  #all output will be logged to logfile\n",
    "\n",
    "        !TRIM_EXEC=\"/s/software/trimmomatic/Trimmomatic-0.38/trimmomatic-0.38.jar\"\n",
    "        !DIR=$1\n",
    "        !shift\n",
    "\n",
    "        !echo \"Running Trimmomatic using executable: $TRIM_EXEC\"\n",
    "\n",
    "        !for file in `ls $DIR/*.fastq.gz` ;\n",
    "        !do\n",
    "          !echo \"File on Loop: ${file}\"\n",
    "          !sample=${file/$DIR\\/}\n",
    "          !sample=${sample/.fastq.gz/}\n",
    "          !echo \"Sample= $sample\"\n",
    "          \n",
    "          !java -jar $TRIM_EXEC SE -threads 12 -phred33 \\\n",
    "               !-trimlog \"$sample\"_trim_report.txt \\\n",
    "               !\"$DIR/$sample\".fastq.gz \"$sample\"_trimmed.fastq.gz \\\n",
    "               !ILLUMINACLIP:/s/software/trimmomatic/Trimmomatic-0.38/adapters/TruSeq3-PE.fa:2:30:10 \\\n",
    "               !LEADING:3 TRAILING:3 SLIDINGWINDOW:4:15 MINLEN:36\n",
    "\n",
    "          !gzip \"$sample\"_trim_report.txt\n",
    "       ! done\n",
    "        \n",
    "        \n",
    "module load trimmomatic\n",
    "cd $my_path/ncbi/files/PRJNA488546\n",
    "nohup bash $my_path/scripts/iterate_trimmomatic.sh PRJNA488546 >& iterate_trim.out &\n"
   ]
  },
  {
   "cell_type": "markdown",
   "id": "3510dfe9",
   "metadata": {},
   "source": [
    "*Mapping reads to genome using BWA-mem*"
   ]
  },
  {
   "cell_type": "code",
   "execution_count": null,
   "id": "79e7e430",
   "metadata": {},
   "outputs": [],
   "source": [
    "#DON'T RUN\n",
    "\n",
    "module load bwa\n",
    "#create index files\n",
    "bwa index AL123456_3.fasta\n",
    "\n",
    "module load samtools\n",
    "\n",
    "# bash script (adapted from yen yi)\n",
    "\n",
    "#!/bin/bash\n",
    "\n",
    "# Run as:\n",
    "# nohup bash BWA_single.sh directory_of_fastq_files\n"
   ]
  },
  {
   "cell_type": "markdown",
   "id": "53632137",
   "metadata": {},
   "source": [
    "10 October\n",
    "\n",
    "Starting snakemake pipeline for processing RNA\n",
    "\n",
    "First set up environment for rna including snakemake"
   ]
  },
  {
   "cell_type": "code",
   "execution_count": null,
   "id": "3c3afa42",
   "metadata": {
    "vscode": {
     "languageId": "shellscript"
    }
   },
   "outputs": [],
   "source": [
    "#install mamba in conda\n",
    "conda install -n base -c conda-forge mamba\n",
    "conda activate base\n",
    "mamba create -c conda-forge -c bioconda -n snakemake snakemake\n",
    "\n",
    "conda activate snakemake\n",
    "conda install -c bioconda bwa samtools fastqc multiqc fastp rseqc sra-tools"
   ]
  },
  {
   "cell_type": "markdown",
   "id": "0283688a",
   "metadata": {},
   "source": [
    "Made snakefile 'rna_processing.smk'\n",
    "AttributeError: 'str' object has no attribute 'name'\n",
    "I'm still getting this error I got when using snakemake with the tutorial. updated conda and python\n",
    "env was using, 3.1, but I updated to 3.9.13"
   ]
  },
  {
   "cell_type": "code",
   "execution_count": null,
   "id": "e28c79d6",
   "metadata": {
    "vscode": {
     "languageId": "shellscript"
    }
   },
   "outputs": [],
   "source": [
    "#removed snakemake env on laptop and reinstalled as above\n",
    "conda env remove --name snakemake\n",
    "# updated python in snakemake env (updates to 3.9.13) (this seems to do trick)\n",
    "conda update python       \n",
    "#from base\n",
    "conda update -n base conda\n",
    "#still not showing update for ==> WARNING: A newer version of conda exists. <==\n",
    "#   current version: 4.12.0\n",
    "#   latest version: 22.9.0\n",
    "\n",
    "# Please update conda by running\n",
    "\n",
    "#     $ conda update -n base conda\n",
    "\n",
    "# try this\n",
    "conda install -n base conda=22.9.0 python=3.9\n",
    "#this got stuck, tried without python, also stuck, try with python=3.8?\n",
    "\n",
    "#supposedly because using conda-forge before defaults? can try this or update ~/.condarc file to put defaults in priority\n",
    "conda install -n base defaults::conda=22.9"
   ]
  },
  {
   "cell_type": "markdown",
   "id": "88560b93",
   "metadata": {},
   "source": [
    "Looked online, and version 4.12 IS THE LATEST VERSION! It just must be a mistake?\n",
    "https://docs.anaconda.com/anaconda/reference/release-notes/"
   ]
  },
  {
   "cell_type": "code",
   "execution_count": null,
   "id": "618bc2fb",
   "metadata": {
    "vscode": {
     "languageId": "shellscript"
    }
   },
   "outputs": [],
   "source": [
    "\n",
    "\n",
    "#checking how these will run\n",
    "snakemake -s rna_processing.smk -np trimmed/trimmed_SRR18961402_1.fastq.gz\n",
    "rna_seq_processing % snakemake -s rna_processing.smk -np fastqc_outputs/multiqc_report.html\n",
    "snakemake --dag trimmed/trimmed_SRR18961402_{1,2} | dot -Tsvg > dag.svg"
   ]
  },
  {
   "cell_type": "markdown",
   "id": "85a63113",
   "metadata": {},
   "source": [
    "error trying to visualise graph of dag. seems not to recognise 'dot' command which is from graphviz. Install graphviz (maybe this is because conda still not updated--do again above)"
   ]
  },
  {
   "cell_type": "code",
   "execution_count": null,
   "id": "e048dafb",
   "metadata": {
    "vscode": {
     "languageId": "shellscript"
    }
   },
   "outputs": [],
   "source": [
    "conda install -c anaconda graphviz"
   ]
  },
  {
   "cell_type": "markdown",
   "id": "4b93621a",
   "metadata": {},
   "source": [
    "Run fastp alone"
   ]
  },
  {
   "cell_type": "code",
   "execution_count": null,
   "id": "802c75ae",
   "metadata": {
    "vscode": {
     "languageId": "shellscript"
    }
   },
   "outputs": [],
   "source": [
    "#dry run\n",
    "snakemake -np -s rna_processing.smk\n",
    "#forced execution of fastp only\n",
    "snakemake --cores 8 -s rna_processing.smk -R fastp_pe"
   ]
  },
  {
   "cell_type": "markdown",
   "id": "638a7e28",
   "metadata": {},
   "source": [
    "This worked great for one file on my laptop. Uses a lot of resources, so do all of them on thoth."
   ]
  },
  {
   "cell_type": "markdown",
   "id": "57339728",
   "metadata": {},
   "source": [
    "Test mapping_snakefile.smk on laptop\n",
    "First must have index file for genome file in directory"
   ]
  },
  {
   "cell_type": "code",
   "execution_count": null,
   "id": "6a1e154b",
   "metadata": {
    "vscode": {
     "languageId": "shellscript"
    }
   },
   "outputs": [],
   "source": [
    "bwa index Mbovis_AF212297.fasta"
   ]
  },
  {
   "cell_type": "code",
   "execution_count": null,
   "id": "a051e4bc",
   "metadata": {
    "vscode": {
     "languageId": "shellscript"
    }
   },
   "outputs": [],
   "source": [
    "snakemake -np -s mapping_snakefile.smk\n",
    "#only using 2 cores on my machine, since I only have 4!\n",
    "snakemake --cores 2 -s mapping_snakefile.smk\n",
    "\n",
    "#can run in background with nohup (stderr and stdout to nohup.out--or whatever you name it)\n",
    "nohup snakemake ... > nohup.out 2>&1 &\n",
    "\n",
    "#create disk image of pipeline\n",
    "snakemake --dag sorted_reads/flagstat_SRR18961402.txt | dot -Tsvg > dag.svg"
   ]
  },
  {
   "cell_type": "markdown",
   "id": "580937a0",
   "metadata": {},
   "source": [
    "fasterq not working--doesn't seem to be included in conda sra-tools\n",
    "try module load ncbi-sra/v2.10.5 and see if that works?\n",
    "\n",
    "Works on thoth but can't use on laptop"
   ]
  },
  {
   "cell_type": "code",
   "execution_count": null,
   "id": "a0f146e0",
   "metadata": {
    "vscode": {
     "languageId": "shellscript"
    }
   },
   "outputs": [],
   "source": [
    "11 October map the fastq files using snakemake files on thoth"
   ]
  },
  {
   "cell_type": "code",
   "execution_count": null,
   "id": "59a4e258",
   "metadata": {
    "vscode": {
     "languageId": "shellscript"
    }
   },
   "outputs": [],
   "source": [
    "conda activate snakemake\n",
    "#run from inside project folder \n",
    "cd $my_path/mbovis_rna/PRJNA832959/\n",
    "\n",
    "#dry run\n",
    "snakemake -np -s $my_path/snakemake/mapping_snakefile.smk\n",
    "#need to add path to config.yaml or needs to be in folder, moved snakmake folders as well\n",
    "$my_path/snakemake/config.yaml .\n",
    "\n",
    "snakemake -np -s mapping_snakefile.smk"
   ]
  },
  {
   "cell_type": "markdown",
   "id": "39bab05c",
   "metadata": {},
   "source": [
    "Had to delete env and make new snakemake installation and env on thoth to get to work.\n",
    "\n",
    "Job stats:\n",
    "job                  count    min threads    max threads\n",
    "-----------------  -------  -------------  -------------\n",
    "all                      1              1              1\n",
    "bwa_map_pe               3              1              1\n",
    "samtools_flagstat        3              1              1\n",
    "samtools_sort            3              1              1\n",
    "total                   10              1              1"
   ]
  },
  {
   "cell_type": "code",
   "execution_count": null,
   "id": "e5582aa5",
   "metadata": {
    "vscode": {
     "languageId": "shellscript"
    }
   },
   "outputs": [],
   "source": [
    "\n",
    "#run for real\n",
    "snakemake --cores 8 -s mapping_snakefile.smk"
   ]
  },
  {
   "cell_type": "markdown",
   "id": "3a57dbe2",
   "metadata": {},
   "source": [
    "Error in rule bwa_map_pe:\n",
    "    jobid: 3\n",
    "    output: mapped_reads/SRR18961402.bam\n",
    "    log: logs/bwa_mem/SRR18961402.log (check log file(s) for error message)\n",
    "    shell:\n",
    "        (bwa mem -t 8 /d/in16/u/sj003/refseqs/mbovis/Mbovis_AF2122_97.fasta /d/in16/u/sj003/mbovis_rna/PRJNA832959/fastq/SRR18961402_1.fastq.gz /d/in16/u/sj003/mbovis_rna/PRJNA832959/fastq/SRR18961402_2.fastq.gz /d/in16/u/sj003/mbovis_rna/PRJNA832959/fastq/SRR18961411_1.fastq.gz /d/in16/u/sj003/mbovis_rna/PRJNA832959/fastq/SRR18961411_2.fastq.gz /d/in16/u/sj003/mbovis_rna/PRJNA832959/fastq/SRR18961412_1.fastq.gz /d/in16/u/sj003/mbovis_rna/PRJNA832959/fastq/SRR18961412_2.fastq.gz | samtools view -Sb - > mapped_reads/SRR18961402.bam) 2> logs/bwa_mem/SRR18961402.log\n",
    "        (one of the commands exited with non-zero exit code; note that snakemake uses bash strict mode!)\n",
    "\n",
    "[main_samview] fail to read the header from \"-\".\n",
    "\n",
    "Realised I was inputting all the fastq files at once with 'expand'. have adjusted rule."
   ]
  },
  {
   "cell_type": "code",
   "execution_count": null,
   "id": "1492bb0b",
   "metadata": {
    "vscode": {
     "languageId": "shellscript"
    }
   },
   "outputs": [],
   "source": [
    "# run fastqc, multiqc, and fastpe for pre-processing using snakefile (probably should have used nohup)\n",
    "snakemake -np -s rna_processing.smk\n",
    "snakemake --cores 4 rna_processing.smk #next time do core per read file--in this case 6\n",
    "\n",
    "#getting an error because some files aren't ready for multiqc. need to increase latency, or easier to just do multiqc independently.\n",
    "#had already run fastqc and multiqc so just omitted this step\n",
    "\n"
   ]
  },
  {
   "cell_type": "markdown",
   "id": "037ffa65",
   "metadata": {},
   "source": [
    "Mapping to H37Rv"
   ]
  },
  {
   "cell_type": "code",
   "execution_count": null,
   "id": "66c9eaaf",
   "metadata": {
    "vscode": {
     "languageId": "shellscript"
    }
   },
   "outputs": [],
   "source": [
    "#run mapping on trimmed and filtered files from fastpe\n",
    "nohup snakemake --cores 8 -s mapping_snakefile.smk > nohup.out 2>&1 &\n",
    "\n",
    "#realised it didn't create index files--added .bam.bai output files to 'rule_all'\n",
    "snakemake --cores 3 -s mapping_snakefile.smk --forcerun samtools_index"
   ]
  },
  {
   "cell_type": "markdown",
   "id": "50b426c2",
   "metadata": {},
   "source": [
    "New snakefile to make bigwig covg files from bam files. maybe add to mapping file?"
   ]
  },
  {
   "cell_type": "code",
   "execution_count": null,
   "id": "cacde457",
   "metadata": {
    "vscode": {
     "languageId": "shellscript"
    }
   },
   "outputs": [],
   "source": [
    "cd /Volumes/Data_disk/mbovis_rna\n",
    "#make sure config.yaml is in directory\n",
    "\n",
    "snakemake -np -s ~/myco_projects/rna_seq_processing/bam_coverage.smk\n",
    "\n",
    "snakemake --cores 3 -s ~/myco_projects/rna_seq_processing/bam_coverage.smk"
   ]
  },
  {
   "cell_type": "markdown",
   "id": "d4e7cf8c",
   "metadata": {},
   "source": [
    "In general, it may be better to have many small snakefile/workflows and import them into one larger 'Snakefile.smk', then can just call 'snakemake --cores n' without listing script \n",
    "\n",
    "https://snakemake.readthedocs.io/en/v7.15.2/snakefiles/modularization.html"
   ]
  },
  {
   "cell_type": "code",
   "execution_count": null,
   "id": "07afad32",
   "metadata": {
    "vscode": {
     "languageId": "shellscript"
    }
   },
   "outputs": [],
   "source": [
    "#SNAKEFILE for rna download, proc"
   ]
  },
  {
   "cell_type": "markdown",
   "id": "dc78a884",
   "metadata": {},
   "source": [
    "Working on wrapper for Baerhunter\n",
    "\n",
    "Using tutorial at https://github.com/dohlee/snakemake-hamburger\n",
    "\n",
    "Basic snakmake tutorial at https://github.com/leipzig/SandwichesWithSnakemake suggests installing ryp2 if you are going to use R in script"
   ]
  },
  {
   "cell_type": "code",
   "execution_count": null,
   "id": "a5028fef",
   "metadata": {
    "vscode": {
     "languageId": "shellscript"
    }
   },
   "outputs": [],
   "source": [
    "conda activate snakemake\n",
    "pip install rpy2"
   ]
  },
  {
   "cell_type": "markdown",
   "id": "d7e9f6c4",
   "metadata": {},
   "source": [
    "I have decided not to try to implement bh in snakemake--it will be difficult to install all the R dependencies in this env. Perhaps later when I can do docker or singularity, then can have linked workflows with one env"
   ]
  },
  {
   "cell_type": "markdown",
   "id": "0e35daf8",
   "metadata": {},
   "source": [
    "20 October, 2022\n",
    "\n",
    "Running 'sra_download.smk' on thoth to download another mbovis dataset. finding an error\n",
    "\n",
    "Job Missing files after 5 seconds. This might be due to filesystem latency. If that is the case, consider to increase the wait time with --latency-wait\n",
    "\n",
    "otherwise, can execute in batches"
   ]
  },
  {
   "cell_type": "code",
   "execution_count": null,
   "id": "28890374",
   "metadata": {
    "vscode": {
     "languageId": "shellscript"
    }
   },
   "outputs": [],
   "source": [
    "conda activate snakemake\n",
    "module load ncbi-sra/v2.10.5\n",
    "cd ncbi\n",
    "snakemake --latency-wait 60 --cores 8 -s $my_path/snakemake/sra_download.smk \n",
    "#wait 60 seconds\n",
    "nohup snakemake --latency-wait 60 --cores 8 -s $my_path/snakemake/sra_download.smk > nohup.out 2>&1 &\n",
    "#maybe wasn't because of latency--might have been because had some single end files, so no read 2 forthcoming?\n",
    "#still got error re latency\n",
    "nohup snakemake --latency-wait 60 --cores 8 -s $my_path/snakemake/sra_download_single.smk > nohup.out 2>&1 &\n",
    "#same error downloads one fastq and exits with error try batch?"
   ]
  },
  {
   "cell_type": "markdown",
   "id": "fe5a14a6",
   "metadata": {},
   "source": [
    "Realised directory for output and input files was 'data/*.fastq' but the fasterq puts into 'files'. So it can't find files when listing."
   ]
  },
  {
   "cell_type": "code",
   "execution_count": null,
   "id": "df7ff436",
   "metadata": {
    "vscode": {
     "languageId": "shellscript"
    }
   },
   "outputs": [],
   "source": [
    "nohup snakemake --cores 8 -s $my_path/snakemake/sra_download_single.smk > nohup.out 2>&1 &"
   ]
  },
  {
   "cell_type": "markdown",
   "id": "4ba7bdf0",
   "metadata": {},
   "source": [
    "This worked, finally! \n",
    "\n",
    "Run fastqc on all files in fastq"
   ]
  },
  {
   "attachments": {},
   "cell_type": "markdown",
   "id": "090daa06",
   "metadata": {},
   "source": [
    "INstalled 'tree' so I can visualise the directories for snakemake files (esp if I make wrappers?). Reorganised directory so all snakefiles are called 'snakefile.smk' but are in specific directories relative to rule\n",
    "\n",
    "```\n",
    "(snakemake) bash-4.2$ tree\n",
    ".\n",
    "├── bam_coverage\n",
    "│   └── snakefile.smk\n",
    "├── config1.yaml\n",
    "├── config.yaml\n",
    "├── dag.svg\n",
    "├── fastp\n",
    "│   ├── pe\n",
    "│   └── single\n",
    "├── fastqc\n",
    "│   └── snakefile.smk\n",
    "├── map_bwa\n",
    "│   ├── pe\n",
    "│   │   └── snakefile.smk\n",
    "│   └── single\n",
    "└── sra\n",
    "    ├── pe\n",
    "    │   └── snakefile.smk\n",
    "    └── single\n",
    "        └── snakefile.smk\n",
    "```\n",
    "11 directories, 8 files\n",
    "\n",
    "this way I don't have to figure out name of each script (pe vs single etc)"
   ]
  },
  {
   "cell_type": "code",
   "execution_count": null,
   "id": "54ad0847",
   "metadata": {
    "vscode": {
     "languageId": "shellscript"
    }
   },
   "outputs": [],
   "source": [
    "cd mbovis_rna\n",
    "cd PRJNA774648\n",
    "conda activate snakemake\n",
    "snakemake -np -s $my_path/snakemake/fastp/single/snakefile.smk"
   ]
  },
  {
   "cell_type": "code",
   "execution_count": null,
   "id": "958ba5a4",
   "metadata": {
    "vscode": {
     "languageId": "shellscript"
    }
   },
   "outputs": [],
   "source": [
    "#config.yaml\n",
    "PATH: \"/d/in16/u/sj003/\"\n",
    "single_samples: [SRR16574977, SRR16574976, SRR16574973]\n",
    "pe_samples: [SRR16574969, SRR16574968, SRR16574967]\n",
    "\n",
    "#can't mix = and : in one config file, all has to be a \n",
    "#also, has to be explicit directory, can't use aliases"
   ]
  },
  {
   "cell_type": "code",
   "execution_count": null,
   "id": "86ac7c6b",
   "metadata": {
    "vscode": {
     "languageId": "shellscript"
    }
   },
   "outputs": [],
   "source": [
    "nohup snakemake --cores 8 -s $my_path/snakemake/fastp/single/snakefile.smk > nohup.out 2>&1 &"
   ]
  },
  {
   "cell_type": "markdown",
   "id": "4a9c77e1",
   "metadata": {},
   "source": [
    "this worked well. now on to mapping"
   ]
  },
  {
   "cell_type": "code",
   "execution_count": null,
   "id": "a8560641",
   "metadata": {
    "vscode": {
     "languageId": "shellscript"
    }
   },
   "outputs": [],
   "source": [
    "cd $my_path/mbovis_rna/PRJNA774648\n",
    "conda activate snakemake\n",
    "snakemake -np -s $my_path/snakemake/map_bwa/single/snakefile.smk\n",
    "nohup snakemake --cores 8 -s $my_path/snakemake/map_bwa/single/snakefile.smk > nohup.out 2>&1 &"
   ]
  },
  {
   "cell_type": "markdown",
   "id": "8701f735",
   "metadata": {},
   "source": [
    "28 October downloading some msmeg fastqs to map to see if phoP/R is present\n",
    "\n",
    "paired end data from PRJNA838962 wild type samples only"
   ]
  },
  {
   "cell_type": "code",
   "execution_count": null,
   "id": "aa2916af",
   "metadata": {
    "vscode": {
     "languageId": "shellscript"
    }
   },
   "outputs": [],
   "source": [
    "mdir msmeg_rna/PRJNA838962\n",
    "cat msmeg_rna/PRJNA838962/config.yaml\n",
    "\n",
    "\n",
    "project: PRJNA527616\n",
    "\n",
    "accession: [SRR19242553, SRR19242554, SRR19242555]  #paired-end\n",
    "genomeFile: /d/in16/u/sj003/refseqs/msmeg/NC_008596.1.fasta\n",
    "samples: [SRR19242553, SRR19242554, SRR19242555]\n",
    "PATH: \"/d/in16/u/sj003/\"\n",
    "\n",
    "conda activate snakemake\n",
    "cd ncbi\n",
    "module load ncbi-sra/v2.10.5    \n",
    "snakemake -np -s $my_path/snakemake/sra/pe/snakefile.smk\n",
    "nohup snakemake --cores 8 -s $my_path/snakemake/sra/pe/snakefile.smk > nohup.out 2>&1 &"
   ]
  },
  {
   "cell_type": "markdown",
   "id": "3ee9550a",
   "metadata": {},
   "source": [
    "run fastp with paired end"
   ]
  },
  {
   "cell_type": "code",
   "execution_count": null,
   "id": "eb20ffe5",
   "metadata": {
    "vscode": {
     "languageId": "shellscript"
    }
   },
   "outputs": [],
   "source": [
    "cd msmeg_rna\n",
    "cd PRJNA838962/\n",
    "conda activate snakemake\n",
    "snakemake -np -s $my_path/snakemake/fastp/pe/snakefile.smk\n",
    "nohup snakemake --cores 8 -s $my_path/snakemake/fastp/pe/snakefile.smk > nohup.out 2>&1 &\n"
   ]
  },
  {
   "cell_type": "markdown",
   "id": "df38f0e1",
   "metadata": {},
   "source": [
    "map with bwa-mem"
   ]
  },
  {
   "cell_type": "code",
   "execution_count": null,
   "id": "0eacc64d",
   "metadata": {
    "vscode": {
     "languageId": "shellscript"
    }
   },
   "outputs": [],
   "source": [
    "mv trimmed/*.fastq.gz trimmed/pe/\n",
    "cd $my_path/msmeg_rna/PRJNA838962\n",
    "conda activate snakemake\n",
    "snakemake -np -s $my_path/snakemake/map_bwa/pe/snakefile.smk\n",
    "nohup snakemake --cores 8 -s $my_path/snakemake/map_bwa/pe/snakefile.smk > nohup_map.out 2>&1 &"
   ]
  },
  {
   "cell_type": "markdown",
   "id": "d3133cfb",
   "metadata": {},
   "source": [
    "3 November\n",
    "These were using unstranded protocol. Using new project (PRJNA820116) and repeating."
   ]
  },
  {
   "attachments": {},
   "cell_type": "markdown",
   "id": "f46d5030",
   "metadata": {},
   "source": [
    "2 March\n",
    "\n",
    "## Downloading and processing RNA seq from sigmaE deletion mutant and WT from PRJNA869087\n",
    "\n",
    "Want to check levels of phoPR and antisense-phoR in the sigE mutant. All paired end."
   ]
  },
  {
   "cell_type": "code",
   "execution_count": null,
   "id": "cef194a9",
   "metadata": {
    "vscode": {
     "languageId": "shellscript"
    }
   },
   "outputs": [],
   "source": [
    "# begin by downloading fastq files from sra (on thoth server)\n",
    "\n",
    "mkdir $my_path/mtb_rna/PRJNA838962\n",
    "cd $my_path/mtb_rna/PRJNA838962\n",
    "\n",
    "#make config.yaml file in directory including following line to indicate accessions:\n",
    "#accession: [SRR21026195,SRR21026196,SRR21026197,SRR21026198,SRR21026199,SRR21026200]\n",
    "\n",
    "conda activate snakemake\n",
    "module load ncbi-sra/v2.10.5\n",
    "\n",
    "snakemake -np -s $my_path/snakemake/sra/pe/snakefile.smk\n",
    "nohup snakemake --cores 8 -s $my_path/snakemake/sra/pe/snakefile.smk > nohup.out 2>&1 &"
   ]
  },
  {
   "attachments": {},
   "cell_type": "markdown",
   "id": "cb237a83",
   "metadata": {},
   "source": [
    "All files successfully downloaded. The sanity check doesn't work because snakemake makes the sc.txt file before any .gz files have been generated. Need to change that. I downloaded into project file instead of ncbi file. Changed fastp snakefile script to reflect this.\n",
    "\n",
    "Use fastp to trim and give quality report"
   ]
  },
  {
   "cell_type": "code",
   "execution_count": null,
   "id": "b91ad672",
   "metadata": {
    "vscode": {
     "languageId": "shellscript"
    }
   },
   "outputs": [],
   "source": [
    "cd $my_path/mtb_rna/PRJNA838962\n",
    "conda activate snakemake\n",
    "snakemake -np -s $my_path/snakemake/fastp/pe/snakefile.smk\n",
    "nohup snakemake --cores 8 -s $my_path/snakemake/fastp/pe/snakefile.smk > nohup.out 2>&1 &"
   ]
  },
  {
   "attachments": {},
   "cell_type": "markdown",
   "id": "c05915f6",
   "metadata": {},
   "source": [
    "Somehow managed to miss out last accession and substitute an old one. need to download this one and do fastp"
   ]
  },
  {
   "cell_type": "code",
   "execution_count": null,
   "id": "629f4130",
   "metadata": {
    "vscode": {
     "languageId": "shellscript"
    }
   },
   "outputs": [],
   "source": [
    "#change config to reflect single accession and sample and re-run\n",
    "snakemake -np -s $my_path/snakemake/fastp/pe/snakefile.smk\n",
    "nohup snakemake --cores 8 -s $my_path/snakemake/fastp/pe/snakefile.smk > nohup.out 2>&1 &\n",
    "\n",
    "multiqc ."
   ]
  },
  {
   "cell_type": "code",
   "execution_count": 45,
   "id": "e23b76fa",
   "metadata": {},
   "outputs": [
    {
     "name": "stdout",
     "output_type": "stream",
     "text": [
      "SRR21026199_fastp 69952114.0\n",
      "SRR21026195_fastp 81551958.0\n",
      "SRR21026197_fastp 71654586.0\n",
      "SRR21026196_fastp 89879690.0\n",
      "SRR21026198_fastp 61663800.0\n",
      "SRR21026200_fastp 60050326.0\n"
     ]
    }
   ],
   "source": [
    "import json\n",
    "with open ('/Users/jenniferstiens/myco_projects/rna_seq_processing/data/sigE_rna_seq_runs/multiqc_data/multiqc_data.json', 'r') as f:\n",
    "        multiqc_data = json.load(f)\n",
    "        # view data in 'pretty print' format\n",
    "        #print(json.dumps(multiqc_data, indent=4))\n",
    "        # get keys for samples\n",
    "        samples = list(multiqc_data['report_data_sources']['fastp']['all_sections'].keys())\n",
    "        # create new dictionary for sample : read counts\n",
    "        reads_count = {}\n",
    "        for x in samples:\n",
    "                gen_stats = multiqc_data['report_general_stats_data'][0][x]\n",
    "                reads_count[x]=gen_stats['filtering_result_passed_filter_reads']\n",
    "        for k,v in reads_count.items():\n",
    "                print(k,v)        "
   ]
  },
  {
   "attachments": {},
   "cell_type": "markdown",
   "id": "9a8f4c20",
   "metadata": {},
   "source": [
    "Quality looks good but 32-37% duplication (always seems to be high--deep sequencing?). Over 60M sequences for each sample.\n",
    "\n",
    "Map with bwa-mem. Use whatever H37Rv genome file you want to use to map. I used AL123456.3"
   ]
  },
  {
   "cell_type": "code",
   "execution_count": null,
   "id": "b53af934",
   "metadata": {
    "vscode": {
     "languageId": "shellscript"
    }
   },
   "outputs": [],
   "source": [
    "snakemake -np -s $my_path/snakemake/map_bwa/pe/snakefile.smk\n",
    "nohup snakemake --cores 8 -s $my_path/snakemake/map_bwa/pe/snakefile.smk > nohup_map.out 2>&1 &"
   ]
  }
 ],
 "metadata": {
  "kernelspec": {
   "display_name": "Python 3 (ipykernel)",
   "language": "python",
   "name": "python3"
  },
  "language_info": {
   "codemirror_mode": {
    "name": "ipython",
    "version": 3
   },
   "file_extension": ".py",
   "mimetype": "text/x-python",
   "name": "python",
   "nbconvert_exporter": "python",
   "pygments_lexer": "ipython3",
   "version": "3.9.13"
  },
  "vscode": {
   "interpreter": {
    "hash": "aee8b7b246df8f9039afb4144a1f6fd8d2ca17a180786b69acc140d282b71a49"
   }
  }
 },
 "nbformat": 4,
 "nbformat_minor": 5
}
